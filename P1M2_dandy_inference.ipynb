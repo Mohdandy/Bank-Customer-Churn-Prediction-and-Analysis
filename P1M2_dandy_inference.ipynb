{
 "cells": [
  {
   "cell_type": "code",
   "execution_count": 1,
   "metadata": {},
   "outputs": [],
   "source": [
    "# Import Library\n",
    "import pickle\n",
    "import pandas as pd\n",
    "import numpy as np"
   ]
  },
  {
   "cell_type": "code",
   "execution_count": 17,
   "metadata": {},
   "outputs": [],
   "source": [
    "# Load file pipeline pkl\n",
    "with open('best_dt.pkl', 'rb') as file_1:\n",
    "    best_dt = pickle.load(file_1)\n",
    "\n",
    "# Load file preprocessor\n",
    "with open('preprocessor.pkl', 'rb') as file_2:\n",
    "    preprocessor = pickle.load(file_2)\n",
    "\n"
   ]
  },
  {
   "cell_type": "code",
   "execution_count": 18,
   "metadata": {},
   "outputs": [
    {
     "data": {
      "text/html": [
       "<div>\n",
       "<style scoped>\n",
       "    .dataframe tbody tr th:only-of-type {\n",
       "        vertical-align: middle;\n",
       "    }\n",
       "\n",
       "    .dataframe tbody tr th {\n",
       "        vertical-align: top;\n",
       "    }\n",
       "\n",
       "    .dataframe thead th {\n",
       "        text-align: right;\n",
       "    }\n",
       "</style>\n",
       "<table border=\"1\" class=\"dataframe\">\n",
       "  <thead>\n",
       "    <tr style=\"text-align: right;\">\n",
       "      <th></th>\n",
       "      <th>age</th>\n",
       "      <th>balance</th>\n",
       "      <th>tenure</th>\n",
       "      <th>credit_score</th>\n",
       "      <th>products_number</th>\n",
       "      <th>credit_card</th>\n",
       "      <th>active_member</th>\n",
       "      <th>country</th>\n",
       "      <th>gender</th>\n",
       "    </tr>\n",
       "  </thead>\n",
       "  <tbody>\n",
       "    <tr>\n",
       "      <th>0</th>\n",
       "      <td>35</td>\n",
       "      <td>57259.61</td>\n",
       "      <td>3</td>\n",
       "      <td>516</td>\n",
       "      <td>3</td>\n",
       "      <td>1</td>\n",
       "      <td>1</td>\n",
       "      <td>Spain</td>\n",
       "      <td>Male</td>\n",
       "    </tr>\n",
       "  </tbody>\n",
       "</table>\n",
       "</div>"
      ],
      "text/plain": [
       "   age   balance  tenure  credit_score  products_number  credit_card  \\\n",
       "0   35  57259.61       3           516                3            1   \n",
       "\n",
       "   active_member country gender  \n",
       "0              1   Spain   Male  "
      ]
     },
     "execution_count": 18,
     "metadata": {},
     "output_type": "execute_result"
    }
   ],
   "source": [
    "# Creating new dataset as df_inf\n",
    "df_inf= {\n",
    "    'age':35,\n",
    "    'balance':57259.61,\n",
    "    'tenure':3,\n",
    "    'credit_score':516,\n",
    "    'products_number':3,\n",
    "    'credit_card':1,\n",
    "    'active_member':1,\n",
    "    'country':'Spain',\n",
    "    'gender':'Male'\n",
    "    }\n",
    "df_inf = pd.DataFrame([df_inf])\n",
    "df_inf"
   ]
  },
  {
   "cell_type": "code",
   "execution_count": 15,
   "metadata": {},
   "outputs": [],
   "source": [
    "# define df_inf_final trough preprocessor\n",
    "df_inf_final = preprocessor.transform(df_inf)"
   ]
  },
  {
   "cell_type": "code",
   "execution_count": 19,
   "metadata": {},
   "outputs": [],
   "source": [
    "# predict df with best_dt\n",
    "y_pred =best_dt.predict(df_inf_final)"
   ]
  },
  {
   "cell_type": "code",
   "execution_count": 25,
   "metadata": {},
   "outputs": [
    {
     "name": "stdout",
     "output_type": "stream",
     "text": [
      "Customer will likely leave\n",
      "\n"
     ]
    }
   ],
   "source": [
    "# Making predictions\n",
    "inf_pred = best_dt.predict(df_inf_final)\n",
    "if inf_pred[0] ==1:\n",
    "    print(\"Customer will likely leave\\n\")\n",
    "else:\n",
    "    print(\"Customer will likely stay\\n\")"
   ]
  }
 ],
 "metadata": {
  "kernelspec": {
   "display_name": "base",
   "language": "python",
   "name": "python3"
  },
  "language_info": {
   "codemirror_mode": {
    "name": "ipython",
    "version": 3
   },
   "file_extension": ".py",
   "mimetype": "text/x-python",
   "name": "python",
   "nbconvert_exporter": "python",
   "pygments_lexer": "ipython3",
   "version": "3.11.5"
  }
 },
 "nbformat": 4,
 "nbformat_minor": 2
}
